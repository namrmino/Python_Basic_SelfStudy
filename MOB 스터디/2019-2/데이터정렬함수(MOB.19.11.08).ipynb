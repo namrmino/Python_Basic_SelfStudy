{
 "cells": [
  {
   "cell_type": "code",
   "execution_count": 3,
   "metadata": {},
   "outputs": [
    {
     "name": "stdout",
     "output_type": "stream",
     "text": [
      "[1, 2, 2, 2, 2, 3, 3, 3, 4, 4, 4, 5, 6, 6, 7, 7, 7, 7, 8, 8, 9, 10, 11]\n"
     ]
    }
   ],
   "source": [
    "arr=[8,4,7,1,4,6,3,2,2,9,7,4,7,5,3,6,2,10,7,3,8,11,2]\n",
    "#sort매소드로 오름차순으로 정렬\n",
    "arr.sort()\n",
    "print(arr)"
   ]
  },
  {
   "cell_type": "code",
   "execution_count": 5,
   "metadata": {},
   "outputs": [
    {
     "name": "stdout",
     "output_type": "stream",
     "text": [
      "arr:\n",
      " [8, 4, 7, 1, 4, 6, 3, 2, 2, 9, 7, 4, 7, 5, 3, 6, 2, 10, 7, 3, 8, 11, 2]\n",
      "bubble:\n",
      " [1, 2, 2, 2, 2, 3, 3, 3, 4, 4, 4, 5, 6, 6, 7, 7, 7, 7, 8, 8, 9, 10, 11]\n",
      "selection:\n",
      " [1, 2, 2, 2, 2, 3, 3, 3, 4, 4, 4, 5, 6, 6, 7, 7, 7, 7, 8, 8, 9, 10, 11]\n",
      "insertion:\n",
      " [1, 2, 2, 2, 2, 3, 3, 3, 4, 4, 4, 5, 6, 6, 7, 7, 7, 7, 8, 8, 9, 10, 11]\n",
      "quick:\n",
      " [1, 2, 2, 2, 2, 3, 3, 3, 4, 4, 4, 5, 6, 6, 7, 7, 7, 7, 8, 8, 9, 10, 11]\n",
      "counting:\n",
      " [1, 2, 2, 2, 2, 3, 3, 3, 4, 4, 4, 5, 6, 6, 7, 7, 7, 7, 8, 8, 9, 10, 11]\n",
      "radix:\n",
      " [1, 2, 2, 2, 2, 3, 3, 3, 4, 4, 4, 5, 6, 6, 7, 7, 7, 7, 8, 8, 9, 10, 11]\n"
     ]
    }
   ],
   "source": [
    "#얕은 복사: 메모리 주소 공유  리스트1= 리스트2\n",
    "#깊은 복사: 주소 다름, 내용 동일\n",
    "import copy\n",
    "# bubble_sort : 하나씩 하나씩 앞뒤를 비교해서 오름차순으로 정렬, 정렬하는데에 시간이 오래 걸림(하나씩 비교해서(중첩식))\n",
    "def bubble_sort(arr):\n",
    "    arr_=copy.deepcopy(arr)#깊은 복사 # for i in range(len(a)): b[i]=a[i] 와 같다.\n",
    "    arr_size=len(arr_)\n",
    "    for a in range(arr_size):\n",
    "        for b in range(1, arr_size): #arr_size 설정 이유\n",
    "            if arr_[b-1]>arr_[b]:\n",
    "                arr_[b-1],arr_[b]=arr_[b],arr_[b-1]\n",
    "    print('bubble:\\n',arr_)\n",
    "    #return arr_\n",
    "    \n",
    "def selection_sort(arr):\n",
    "    arr_=copy.deepcopy(arr) \n",
    "    arr_size=len(arr_)\n",
    "    for a in range(arr_size):\n",
    "        temp=a\n",
    "        for b in range(arr_size):\n",
    "            if arr_[temp]<arr_[b]:\n",
    "                temp=b\n",
    "            arr_[a], arr_[temp] = arr_[temp], arr_[a]\n",
    "    print('selection:\\n',arr_)\n",
    "    \n",
    "def insertion_sort(arr):\n",
    "    arr_=copy.deepcopy(arr)\n",
    "    arr_size=len(arr_)\n",
    "    for a in range(arr_size):\n",
    "        for b in range(a):\n",
    "            if arr_[a]<arr_[b]:\n",
    "                temp=arr_[a]\n",
    "                del arr_[a]\n",
    "                arr_.insert(b,temp)\n",
    "                break\n",
    "    print('insertion:\\n',arr_)\n",
    "    \n",
    "def quick_sort(arr):\n",
    "    arr_=copy.deepcopy(arr)\n",
    "    arr_size=len(arr_)\n",
    "    \n",
    "    if arr_size<=1:\n",
    "        return arr_\n",
    "    else:\n",
    "        pivot=arr_[0]\n",
    "        upper=[ele for ele in arr_[1:] if ele>pivot]\n",
    "        lesser=[ele for ele in arr_[1:] if ele<=pivot]\n",
    "        return quick_sort(lesser) + [pivot] + quick_sort(upper)\n",
    "    \n",
    "def counting_sort(arr, idx=0):\n",
    "    arr_=copy.deepcopy(arr)\n",
    "    arr_max=max(arr_)\n",
    "    \n",
    "    sorted_arr=[-1] * len(arr_)\n",
    "    c= [0] * (arr_max+1) # 곱해지는 수 만큼 0을 입력한다.\n",
    "    # 중첩이 쓰지 않아서 속도가 빠르다. 속도는 n+k이다. 여기서 k는 리스트의 크기이다.\n",
    "    for i in arr_:\n",
    "        c[i]+=1\n",
    "    #print(C)\n",
    "    for i in range(arr_max):\n",
    "        c[i+1] += c[i]\n",
    "    \n",
    "    # 실제 정렬 부분\n",
    "    for i in reversed(range(len(arr_))):\n",
    "        sorted_arr[ c[arr_[i]]-1] = arr_[i]\n",
    "        c[arr_[i]]-=1\n",
    "        \n",
    "    if idx ==0:\n",
    "        print(\"counting:\\n\",sorted_arr)\n",
    "    else:\n",
    "        return sorted_arr\n",
    "    \n",
    "from math import log # math라는 파일안에서 log의 기능만을 가져온다.\n",
    "def radix_sort(arr, base=10):\n",
    "    arr_=copy.deepcopy(arr)\n",
    "    digit=int(log(max(arr_),base)+1)\n",
    "    for d in range(digit):\n",
    "        arr_=counting_sort(arr_,1)\n",
    "    print(\"radix:\\n\", arr_)    \n",
    "    \n",
    "if __name__ == \"__main__\": # main 함수를 찾아주는 역할\n",
    "    arr=[8,4,7,1,4,6,3,2,2,9,7,4,7,5,3,6,2,10,7,3,8,11,2]\n",
    "    print(\"arr:\\n\",arr)\n",
    "    bubble_sort(arr)\n",
    "    #print(arr)\n",
    "    selection_sort(arr)\n",
    "    insertion_sort(arr)\n",
    "    \n",
    "    quick_arr=quick_sort(arr)\n",
    "    print(\"quick:\\n\",quick_arr)\n",
    "    \n",
    "    counting_sort(arr)\n",
    "    radix_sort(arr)"
   ]
  },
  {
   "cell_type": "code",
   "execution_count": null,
   "metadata": {},
   "outputs": [],
   "source": []
  }
 ],
 "metadata": {
  "kernelspec": {
   "display_name": "Python 3",
   "language": "python",
   "name": "python3"
  },
  "language_info": {
   "codemirror_mode": {
    "name": "ipython",
    "version": 3
   },
   "file_extension": ".py",
   "mimetype": "text/x-python",
   "name": "python",
   "nbconvert_exporter": "python",
   "pygments_lexer": "ipython3",
   "version": "3.7.3"
  }
 },
 "nbformat": 4,
 "nbformat_minor": 4
}
