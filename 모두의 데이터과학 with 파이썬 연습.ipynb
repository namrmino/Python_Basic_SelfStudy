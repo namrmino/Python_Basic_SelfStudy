{
 "cells": [
  {
   "cell_type": "code",
   "execution_count": 9,
   "metadata": {},
   "outputs": [],
   "source": [
    "# 2장"
   ]
  },
  {
   "cell_type": "code",
   "execution_count": 10,
   "metadata": {},
   "outputs": [
    {
     "data": {
      "text/plain": [
       "'Hello, world!'"
      ]
     },
     "execution_count": 10,
     "metadata": {},
     "output_type": "execute_result"
    }
   ],
   "source": [
    "\"Hello, world! \\t\\t\\n\".strip()"
   ]
  },
  {
   "cell_type": "code",
   "execution_count": 11,
   "metadata": {},
   "outputs": [
    {
     "data": {
      "text/plain": [
       "['Hello,', 'world!']"
      ]
     },
     "execution_count": 11,
     "metadata": {},
     "output_type": "execute_result"
    }
   ],
   "source": [
    "\"Hello, world!\".split()\n",
    "# Hello,와 world! 사이에 공백이 2개 있다."
   ]
  },
  {
   "cell_type": "code",
   "execution_count": 12,
   "metadata": {},
   "outputs": [
    {
     "data": {
      "text/plain": [
       "['Hello,', 'world!']"
      ]
     },
     "execution_count": 12,
     "metadata": {},
     "output_type": "execute_result"
    }
   ],
   "source": [
    "\"Hello, world!\".split(\" \")\n",
    "# Hello,와 world! 사이에 공백이 2개 있다."
   ]
  },
  {
   "cell_type": "code",
   "execution_count": 13,
   "metadata": {},
   "outputs": [
    {
     "data": {
      "text/plain": [
       "['www', 'networksciencelab', 'com']"
      ]
     },
     "execution_count": 13,
     "metadata": {},
     "output_type": "execute_result"
    }
   ],
   "source": [
    "\"www.networksciencelab.com\".split(\".\")"
   ]
  },
  {
   "cell_type": "code",
   "execution_count": 14,
   "metadata": {},
   "outputs": [
    {
     "data": {
      "text/plain": [
       "'alpha, bravo, charlie, delta'"
      ]
     },
     "execution_count": 14,
     "metadata": {},
     "output_type": "execute_result"
    }
   ],
   "source": [
    "\", \".join([\"alpha\", \"bravo\", \"charlie\", \"delta\"])"
   ]
  },
  {
   "cell_type": "code",
   "execution_count": 15,
   "metadata": {},
   "outputs": [
    {
     "data": {
      "text/plain": [
       "'1-617-305-1985'"
      ]
     },
     "execution_count": 15,
     "metadata": {},
     "output_type": "execute_result"
    }
   ],
   "source": [
    "\"-\".join(\"1.617.305.1985\".split(\".\"))"
   ]
  },
  {
   "cell_type": "code",
   "execution_count": 16,
   "metadata": {},
   "outputs": [
    {
     "data": {
      "text/plain": [
       "'This string has many spaces'"
      ]
     },
     "execution_count": 16,
     "metadata": {},
     "output_type": "execute_result"
    }
   ],
   "source": [
    "\" \".join(\"This string\\n\\r has many\\t\\tspaces\".split())"
   ]
  },
  {
   "cell_type": "code",
   "execution_count": 17,
   "metadata": {},
   "outputs": [
    {
     "data": {
      "text/plain": [
       "21"
      ]
     },
     "execution_count": 17,
     "metadata": {},
     "output_type": "execute_result"
    }
   ],
   "source": [
    "\"www.networksciencelab.com\".find(\".com\")"
   ]
  },
  {
   "cell_type": "code",
   "execution_count": 18,
   "metadata": {},
   "outputs": [
    {
     "data": {
      "text/plain": [
       "2"
      ]
     },
     "execution_count": 18,
     "metadata": {},
     "output_type": "execute_result"
    }
   ],
   "source": [
    "\"www.networksciencelab.com\".count(\".\")"
   ]
  },
  {
   "cell_type": "code",
   "execution_count": 19,
   "metadata": {},
   "outputs": [],
   "source": [
    "# myList = list(set(myList))\n",
    "# 위의 경우와 같이,\n",
    "# 회원 명단을 조회하거나 중복 항목을 삭제하는 데 셋을 유용하게 사용할 수 있다.\n",
    "# 중복된 아이템이 들어 있는 리스트를 셋으로 변환하면 중복된 아이템을 모두 삭제한다."
   ]
  },
  {
   "cell_type": "code",
   "execution_count": 20,
   "metadata": {},
   "outputs": [
    {
     "data": {
      "text/plain": [
       "{0: 'alpha', 1: 'bravo', 2: 'charlie', 3: 'delta'}"
      ]
     },
     "execution_count": 20,
     "metadata": {},
     "output_type": "execute_result"
    }
   ],
   "source": [
    "seq = [\"alpha\", \"bravo\", \"charlie\", \"delta\"]\n",
    "dict(enumerate(seq))"
   ]
  },
  {
   "cell_type": "code",
   "execution_count": 21,
   "metadata": {},
   "outputs": [
    {
     "data": {
      "text/plain": [
       "{'a': 'alpha', 'b': 'bravo', 'c': 'charlie', 'd': 'delta'}"
      ]
     },
     "execution_count": 21,
     "metadata": {},
     "output_type": "execute_result"
    }
   ],
   "source": [
    "kseq = \"abcd\" # 문자열 또한, 순서열이다.\n",
    "vseq = [\"alpha\", \"bravo\", \"charlie\", \"delta\"]\n",
    "dict(zip(kseq, vseq))"
   ]
  },
  {
   "cell_type": "code",
   "execution_count": 22,
   "metadata": {},
   "outputs": [
    {
     "data": {
      "text/plain": [
       "[('a', 3), ('man', 1), ('plan', 1), ('canal', 1), ('panama', 1)]"
      ]
     },
     "execution_count": 22,
     "metadata": {},
     "output_type": "execute_result"
    }
   ],
   "source": [
    "from collections import Counter\n",
    "phrase = \"a man a plan a canal panama\"\n",
    "cntr = Counter(phrase.split())\n",
    "cntr.most_common()"
   ]
  },
  {
   "cell_type": "code",
   "execution_count": 23,
   "metadata": {},
   "outputs": [
    {
     "data": {
      "text/plain": [
       "{'a': 3, 'man': 1, 'plan': 1, 'canal': 1, 'panama': 1}"
      ]
     },
     "execution_count": 23,
     "metadata": {},
     "output_type": "execute_result"
    }
   ],
   "source": [
    "cntrDict = dict(cntr.most_common())\n",
    "cntrDict"
   ]
  },
  {
   "cell_type": "code",
   "execution_count": 24,
   "metadata": {},
   "outputs": [
    {
     "data": {
      "text/plain": [
       "3"
      ]
     },
     "execution_count": 24,
     "metadata": {},
     "output_type": "execute_result"
    }
   ],
   "source": [
    "cntrDict['a']"
   ]
  },
  {
   "cell_type": "code",
   "execution_count": 25,
   "metadata": {},
   "outputs": [
    {
     "data": {
      "text/plain": [
       "ParseResult(scheme='http', netloc='networksciencelab.com', path='/index.html', params='param', query='foo=bar', fragment='content')"
      ]
     },
     "execution_count": 25,
     "metadata": {},
     "output_type": "execute_result"
    }
   ],
   "source": [
    "import urllib.parse\n",
    "URL = \"http://networksciencelab.com/index.html;param?foo=bar#content\"\n",
    "urllib.parse.urlparse(URL)"
   ]
  },
  {
   "cell_type": "code",
   "execution_count": 26,
   "metadata": {},
   "outputs": [
    {
     "data": {
      "text/plain": [
       "['Hello', '', 'world', '']"
      ]
     },
     "execution_count": 26,
     "metadata": {},
     "output_type": "execute_result"
    }
   ],
   "source": [
    "import re\n",
    "re.split(r\"\\W\", \"Hello, world!\")"
   ]
  },
  {
   "cell_type": "code",
   "execution_count": 27,
   "metadata": {},
   "outputs": [
    {
     "data": {
      "text/plain": [
       "['Hello', 'world', '']"
      ]
     },
     "execution_count": 27,
     "metadata": {},
     "output_type": "execute_result"
    }
   ],
   "source": [
    "# 인근에 위치한 비문자(non-letter)를 합친다.\n",
    "re.split(r\"\\W+\", \"Hello, world!\")"
   ]
  },
  {
   "cell_type": "code",
   "execution_count": 28,
   "metadata": {},
   "outputs": [
    {
     "data": {
      "text/plain": [
       "<re.Match object; span=(0, 3), match='067'>"
      ]
     },
     "execution_count": 28,
     "metadata": {},
     "output_type": "execute_result"
    }
   ],
   "source": [
    "mo = re.match(r\"\\d+\", \"067 Starts with a number\")\n",
    "mo"
   ]
  },
  {
   "cell_type": "code",
   "execution_count": 29,
   "metadata": {},
   "outputs": [
    {
     "data": {
      "text/plain": [
       "3"
      ]
     },
     "execution_count": 29,
     "metadata": {},
     "output_type": "execute_result"
    }
   ],
   "source": [
    "mo.end()"
   ]
  },
  {
   "cell_type": "code",
   "execution_count": 30,
   "metadata": {},
   "outputs": [
    {
     "data": {
      "text/plain": [
       "0"
      ]
     },
     "execution_count": 30,
     "metadata": {},
     "output_type": "execute_result"
    }
   ],
   "source": [
    "mo.start()"
   ]
  },
  {
   "cell_type": "code",
   "execution_count": 31,
   "metadata": {},
   "outputs": [
    {
     "data": {
      "text/plain": [
       "'067'"
      ]
     },
     "execution_count": 31,
     "metadata": {},
     "output_type": "execute_result"
    }
   ],
   "source": [
    "mo.group()"
   ]
  },
  {
   "cell_type": "code",
   "execution_count": 32,
   "metadata": {},
   "outputs": [
    {
     "name": "stdout",
     "output_type": "stream",
     "text": [
      "None\n"
     ]
    }
   ],
   "source": [
    "print(re.match(r\"\\d+\", \"Does not start with a number\"))"
   ]
  },
  {
   "cell_type": "code",
   "execution_count": 33,
   "metadata": {},
   "outputs": [
    {
     "data": {
      "text/plain": [
       "<re.Match object; span=(8, 11), match='Has'>"
      ]
     },
     "execution_count": 33,
     "metadata": {},
     "output_type": "execute_result"
    }
   ],
   "source": [
    "re.search(r\"[a-z]+\", \"0010010 Has at least one 010 letter 0010010\", re.I)"
   ]
  },
  {
   "cell_type": "code",
   "execution_count": 34,
   "metadata": {},
   "outputs": [
    {
     "data": {
      "text/plain": [
       "<re.Match object; span=(9, 11), match='as'>"
      ]
     },
     "execution_count": 34,
     "metadata": {},
     "output_type": "execute_result"
    }
   ],
   "source": [
    "# 대소문자를 구분하는 버전\n",
    "re.search(r\"[a-z]+\", \"0010010 Has at least one 010 letter 0010010\")"
   ]
  },
  {
   "cell_type": "code",
   "execution_count": 35,
   "metadata": {},
   "outputs": [
    {
     "data": {
      "text/plain": [
       "['Has', 'at', 'least', 'one', 'letter']"
      ]
     },
     "execution_count": 35,
     "metadata": {},
     "output_type": "execute_result"
    }
   ],
   "source": [
    "re.findall(r\"[a-z]+\", \"0010010 Has at least one 010 letter 0010010\", re.I)"
   ]
  },
  {
   "cell_type": "code",
   "execution_count": 36,
   "metadata": {},
   "outputs": [
    {
     "data": {
      "text/plain": [
       "'0010010[...]010[...]0010010'"
      ]
     },
     "execution_count": 36,
     "metadata": {},
     "output_type": "execute_result"
    }
   ],
   "source": [
    "re.sub(r\"[a-z ]+\", \"[...]\", \"0010010 has at least one 010 letter 0010010\")"
   ]
  },
  {
   "cell_type": "code",
   "execution_count": 37,
   "metadata": {},
   "outputs": [
    {
     "data": {
      "text/plain": [
       "[]"
      ]
     },
     "execution_count": 37,
     "metadata": {},
     "output_type": "execute_result"
    }
   ],
   "source": [
    "import glob\n",
    "glob.glob(\"*.txt\")"
   ]
  },
  {
   "cell_type": "code",
   "execution_count": 38,
   "metadata": {},
   "outputs": [],
   "source": [
    "# 5장 : numpy 다루기"
   ]
  },
  {
   "cell_type": "code",
   "execution_count": 5,
   "metadata": {},
   "outputs": [],
   "source": [
    "import numpy as np"
   ]
  },
  {
   "cell_type": "code",
   "execution_count": 6,
   "metadata": {},
   "outputs": [
    {
     "data": {
      "text/plain": [
       "array([ 1,  2,  3,  4,  5,  6,  7,  8,  9, 10])"
      ]
     },
     "execution_count": 6,
     "metadata": {},
     "output_type": "execute_result"
    }
   ],
   "source": [
    "numbers = np.array(range(1,11),copy=True)\n",
    "numbers"
   ]
  },
  {
   "cell_type": "code",
   "execution_count": 7,
   "metadata": {},
   "outputs": [
    {
     "data": {
      "text/plain": [
       "array([[1., 1., 1., 1.],\n",
       "       [1., 1., 1., 1.]])"
      ]
     },
     "execution_count": 7,
     "metadata": {},
     "output_type": "execute_result"
    }
   ],
   "source": [
    "ones = np.ones([2, 4], dtype=np.float64)\n",
    "ones"
   ]
  },
  {
   "cell_type": "code",
   "execution_count": 8,
   "metadata": {},
   "outputs": [
    {
     "data": {
      "text/plain": [
       "array([[0., 0., 0., 0.],\n",
       "       [0., 0., 0., 0.]])"
      ]
     },
     "execution_count": 8,
     "metadata": {},
     "output_type": "execute_result"
    }
   ],
   "source": [
    "zeros = np.zeros([2, 4], dtype=np.float64)\n",
    "zeros"
   ]
  },
  {
   "cell_type": "code",
   "execution_count": 9,
   "metadata": {},
   "outputs": [
    {
     "data": {
      "text/plain": [
       "array([[0., 0., 0., 0.],\n",
       "       [0., 0., 0., 0.]])"
      ]
     },
     "execution_count": 9,
     "metadata": {},
     "output_type": "execute_result"
    }
   ],
   "source": [
    "empty = np.empty([2, 4], dtype=np.float64)\n",
    "# 배열의 내용물이 항상 0인 것은 아니다.\n",
    "empty"
   ]
  },
  {
   "cell_type": "code",
   "execution_count": 10,
   "metadata": {},
   "outputs": [
    {
     "data": {
      "text/plain": [
       "(2, 4)"
      ]
     },
     "execution_count": 10,
     "metadata": {},
     "output_type": "execute_result"
    }
   ],
   "source": [
    "ones.shape\n",
    "# 아직 변형되지 않았다면 원래 모양을 반환한다."
   ]
  },
  {
   "cell_type": "code",
   "execution_count": 11,
   "metadata": {},
   "outputs": [
    {
     "data": {
      "text/plain": [
       "1"
      ]
     },
     "execution_count": 11,
     "metadata": {},
     "output_type": "execute_result"
    }
   ],
   "source": [
    "numbers.ndim # len(numbers.shape)와 같다."
   ]
  },
  {
   "cell_type": "code",
   "execution_count": 12,
   "metadata": {},
   "outputs": [
    {
     "data": {
      "text/plain": [
       "dtype('float64')"
      ]
     },
     "execution_count": 12,
     "metadata": {},
     "output_type": "execute_result"
    }
   ],
   "source": [
    "zeros.dtype"
   ]
  },
  {
   "cell_type": "code",
   "execution_count": 13,
   "metadata": {},
   "outputs": [
    {
     "data": {
      "text/plain": [
       "array([[0., 1., 0.],\n",
       "       [0., 0., 1.],\n",
       "       [0., 0., 0.]])"
      ]
     },
     "execution_count": 13,
     "metadata": {},
     "output_type": "execute_result"
    }
   ],
   "source": [
    "eye = np.eye(3, k=1)\n",
    "eye"
   ]
  },
  {
   "cell_type": "code",
   "execution_count": 14,
   "metadata": {},
   "outputs": [
    {
     "data": {
      "text/plain": [
       "array([2.  , 2.25, 2.5 , 2.75, 3.  , 3.25, 3.5 , 3.75, 4.  , 4.25, 4.5 ,\n",
       "       4.75])"
      ]
     },
     "execution_count": 14,
     "metadata": {},
     "output_type": "execute_result"
    }
   ],
   "source": [
    "np_numbers = np.arange(2, 5, 0.25)\n",
    "np_numbers"
   ]
  },
  {
   "cell_type": "code",
   "execution_count": 15,
   "metadata": {},
   "outputs": [
    {
     "data": {
      "text/plain": [
       "array([2, 2, 2, 2, 3, 3, 3, 3, 4, 4, 4, 4])"
      ]
     },
     "execution_count": 15,
     "metadata": {},
     "output_type": "execute_result"
    }
   ],
   "source": [
    "np_inumbers = np_numbers.astype(np.int)\n",
    "np_inumbers"
   ]
  },
  {
   "cell_type": "code",
   "execution_count": 52,
   "metadata": {},
   "outputs": [
    {
     "data": {
      "text/plain": [
       "array(['MMM', 'ABT', 'ABBV', 'ACN', 'ACE', 'ATVI', 'ADBE', 'ADT'],\n",
       "      dtype='<U4')"
      ]
     },
     "execution_count": 52,
     "metadata": {},
     "output_type": "execute_result"
    }
   ],
   "source": [
    "sap = np.array([\"MMM\", \"ABT\", \"ABBV\", \"ACN\", \"ACE\", \"ATVI\", \"ADBE\", \"ADT\"])\n",
    "sap"
   ]
  },
  {
   "cell_type": "code",
   "execution_count": 53,
   "metadata": {},
   "outputs": [
    {
     "data": {
      "text/plain": [
       "array([['MMM', 'ABT', 'ABBV', 'ACN'],\n",
       "       ['ACE', 'ATVI', 'ADBE', 'ADT']], dtype='<U4')"
      ]
     },
     "execution_count": 53,
     "metadata": {},
     "output_type": "execute_result"
    }
   ],
   "source": [
    "sap2d = sap.reshape(2, 4)\n",
    "sap2d"
   ]
  },
  {
   "cell_type": "code",
   "execution_count": 54,
   "metadata": {},
   "outputs": [
    {
     "data": {
      "text/plain": [
       "array([[['MMM', 'ABT'],\n",
       "        ['ABBV', 'ACN']],\n",
       "\n",
       "       [['ACE', 'ATVI'],\n",
       "        ['ADBE', 'ADT']]], dtype='<U4')"
      ]
     },
     "execution_count": 54,
     "metadata": {},
     "output_type": "execute_result"
    }
   ],
   "source": [
    "sap3d = sap.reshape(2, 2, 2)\n",
    "sap3d"
   ]
  },
  {
   "cell_type": "code",
   "execution_count": 55,
   "metadata": {},
   "outputs": [
    {
     "data": {
      "text/plain": [
       "array([['MMM', 'ACE'],\n",
       "       ['ABT', 'ATVI'],\n",
       "       ['ABBV', 'ADBE'],\n",
       "       ['ACN', 'ADT']], dtype='<U4')"
      ]
     },
     "execution_count": 55,
     "metadata": {},
     "output_type": "execute_result"
    }
   ],
   "source": [
    "sap2d.T #sas로 치면 transpose와 같이 전치가 된다."
   ]
  },
  {
   "cell_type": "code",
   "execution_count": 56,
   "metadata": {},
   "outputs": [
    {
     "data": {
      "text/plain": [
       "array([[['MMM', 'ABBV'],\n",
       "        ['ABT', 'ACN']],\n",
       "\n",
       "       [['ACE', 'ADBE'],\n",
       "        ['ATVI', 'ADT']]], dtype='<U4')"
      ]
     },
     "execution_count": 56,
     "metadata": {},
     "output_type": "execute_result"
    }
   ],
   "source": [
    "sap3d.swapaxes(1, 2)"
   ]
  },
  {
   "cell_type": "code",
   "execution_count": 57,
   "metadata": {},
   "outputs": [
    {
     "data": {
      "text/plain": [
       "array([[['MMM', 'ABBV'],\n",
       "        ['ABT', 'ACN']],\n",
       "\n",
       "       [['ACE', 'ADBE'],\n",
       "        ['ATVI', 'ADT']]], dtype='<U4')"
      ]
     },
     "execution_count": 57,
     "metadata": {},
     "output_type": "execute_result"
    }
   ],
   "source": [
    "sap3d.transpose((0, 2, 1))"
   ]
  },
  {
   "cell_type": "code",
   "execution_count": 58,
   "metadata": {},
   "outputs": [
    {
     "data": {
      "text/plain": [
       "array([False, False, False,  True,  True,  True])"
      ]
     },
     "execution_count": 58,
     "metadata": {},
     "output_type": "execute_result"
    }
   ],
   "source": [
    "dirty = np.array([9, 4, 1, -0.01, -0.02, -0.001])\n",
    "whos_dirty = dirty < 0 # 불 배열을 불 인덱스로 사용한다.\n",
    "whos_dirty"
   ]
  },
  {
   "cell_type": "code",
   "execution_count": 60,
   "metadata": {},
   "outputs": [
    {
     "data": {
      "text/plain": [
       "array([9., 4., 1., 0., 0., 0.])"
      ]
     },
     "execution_count": 60,
     "metadata": {},
     "output_type": "execute_result"
    }
   ],
   "source": [
    "dirty[whos_dirty] = 0\n",
    "# 모든 음수값을 0으로 바꾼다.\n",
    "dirty"
   ]
  },
  {
   "cell_type": "code",
   "execution_count": 61,
   "metadata": {},
   "outputs": [
    {
     "data": {
      "text/plain": [
       "array([False, False, False,  True,  True,  True,  True,  True, False,\n",
       "       False, False])"
      ]
     },
     "execution_count": 61,
     "metadata": {},
     "output_type": "execute_result"
    }
   ],
   "source": [
    "linear = np.arange(-1, 1.1, 0.2)\n",
    "(linear <= 0.5) & (linear >= -0.5)"
   ]
  },
  {
   "cell_type": "code",
   "execution_count": 62,
   "metadata": {},
   "outputs": [
    {
     "data": {
      "text/plain": [
       "array(['ABT', 'ABBV', 'ADT'], dtype='<U4')"
      ]
     },
     "execution_count": 62,
     "metadata": {},
     "output_type": "execute_result"
    }
   ],
   "source": [
    "sap[[1, 2, -1]]"
   ]
  },
  {
   "cell_type": "code",
   "execution_count": 63,
   "metadata": {},
   "outputs": [
    {
     "data": {
      "text/plain": [
       "array([['ABT'],\n",
       "       ['ATVI']], dtype='<U4')"
      ]
     },
     "execution_count": 63,
     "metadata": {},
     "output_type": "execute_result"
    }
   ],
   "source": [
    "sap2d[:, [1]]"
   ]
  },
  {
   "cell_type": "code",
   "execution_count": 17,
   "metadata": {},
   "outputs": [],
   "source": [
    "a = np.arange(4)"
   ]
  },
  {
   "cell_type": "code",
   "execution_count": 19,
   "metadata": {},
   "outputs": [
    {
     "data": {
      "text/plain": [
       "array([0, 1, 2, 3])"
      ]
     },
     "execution_count": 19,
     "metadata": {},
     "output_type": "execute_result"
    }
   ],
   "source": [
    "a"
   ]
  },
  {
   "cell_type": "code",
   "execution_count": 20,
   "metadata": {},
   "outputs": [],
   "source": [
    "b = np.arange(1, 5)"
   ]
  },
  {
   "cell_type": "code",
   "execution_count": 21,
   "metadata": {},
   "outputs": [
    {
     "data": {
      "text/plain": [
       "array([1, 2, 3, 4])"
      ]
     },
     "execution_count": 21,
     "metadata": {},
     "output_type": "execute_result"
    }
   ],
   "source": [
    "b"
   ]
  },
  {
   "cell_type": "code",
   "execution_count": 22,
   "metadata": {},
   "outputs": [
    {
     "data": {
      "text/plain": [
       "array([1, 3, 5, 7])"
      ]
     },
     "execution_count": 22,
     "metadata": {},
     "output_type": "execute_result"
    }
   ],
   "source": [
    "a+b"
   ]
  },
  {
   "cell_type": "code",
   "execution_count": 65,
   "metadata": {},
   "outputs": [
    {
     "data": {
      "text/plain": [
       "array([ 0,  5, 10, 15])"
      ]
     },
     "execution_count": 65,
     "metadata": {},
     "output_type": "execute_result"
    }
   ],
   "source": [
    "a*5"
   ]
  },
  {
   "cell_type": "code",
   "execution_count": 66,
   "metadata": {},
   "outputs": [
    {
     "data": {
      "text/plain": [
       "array([[1.01, 0.01, 0.01, 0.01],\n",
       "       [0.01, 1.01, 0.01, 0.01],\n",
       "       [0.01, 0.01, 1.01, 0.01],\n",
       "       [0.01, 0.01, 0.01, 1.01]])"
      ]
     },
     "execution_count": 66,
     "metadata": {},
     "output_type": "execute_result"
    }
   ],
   "source": [
    "noise = np.eye(4) + 0.01 * np.ones((4, ))\n",
    "noise"
   ]
  },
  {
   "cell_type": "code",
   "execution_count": 67,
   "metadata": {},
   "outputs": [
    {
     "data": {
      "text/plain": [
       "array([[1.  , 0.  , 0.01, 0.  ],\n",
       "       [0.  , 1.  , 0.  , 0.  ],\n",
       "       [0.  , 0.  , 1.  , 0.01],\n",
       "       [0.01, 0.  , 0.  , 1.  ]])"
      ]
     },
     "execution_count": 67,
     "metadata": {},
     "output_type": "execute_result"
    }
   ],
   "source": [
    "noise = np.eye(4) + 0.01 * np.random.random([4, 4])\n",
    "np.round(noise, 2)"
   ]
  },
  {
   "cell_type": "code",
   "execution_count": 39,
   "metadata": {},
   "outputs": [
    {
     "data": {
      "text/plain": [
       "array([140.49,   0.97,  40.68,  41.53,  55.7 ,  57.21,  98.2 ,  99.19,\n",
       "       109.96, 111.47,  35.71,  36.27,  87.85,  89.11,  30.22,  30.91])"
      ]
     },
     "execution_count": 39,
     "metadata": {},
     "output_type": "execute_result"
    }
   ],
   "source": [
    "stocks = np.array([140.49, 0.97, 40.68, 41.53, 55.7, 57.21, 98.2, 99.19, 109.96, 111.47, 35.71, 36.27, 87.85, 89.11, 30.22, 30.91])\n",
    "stocks"
   ]
  },
  {
   "cell_type": "code",
   "execution_count": 41,
   "metadata": {},
   "outputs": [
    {
     "data": {
      "text/plain": [
       "array([[140.49,  40.68,  55.7 ,  98.2 , 109.96,  35.71,  87.85,  30.22],\n",
       "       [  0.97,  41.53,  57.21,  99.19, 111.47,  36.27,  89.11,  30.91]])"
      ]
     },
     "execution_count": 41,
     "metadata": {},
     "output_type": "execute_result"
    }
   ],
   "source": [
    "stocks = stocks.reshape(8, 2).T\n",
    "stocks"
   ]
  },
  {
   "cell_type": "code",
   "execution_count": 70,
   "metadata": {},
   "outputs": [
    {
     "data": {
      "text/plain": [
       "array([ True, False, False, False, False, False, False, False])"
      ]
     },
     "execution_count": 70,
     "metadata": {},
     "output_type": "execute_result"
    }
   ],
   "source": [
    "fall = np.greater(stocks[0], stocks[1])\n",
    "fall"
   ]
  },
  {
   "cell_type": "code",
   "execution_count": 71,
   "metadata": {},
   "outputs": [
    {
     "data": {
      "text/plain": [
       "array(['MMM'], dtype='<U4')"
      ]
     },
     "execution_count": 71,
     "metadata": {},
     "output_type": "execute_result"
    }
   ],
   "source": [
    "sap[fall]"
   ]
  },
  {
   "cell_type": "code",
   "execution_count": 72,
   "metadata": {},
   "outputs": [
    {
     "data": {
      "text/plain": [
       "array([[False, False, False, False, False, False, False, False],\n",
       "       [ True, False, False, False, False, False, False, False]])"
      ]
     },
     "execution_count": 72,
     "metadata": {},
     "output_type": "execute_result"
    }
   ],
   "source": [
    "# 새 MMM 주식 가격이 결측치라고 가정해보자.\n",
    "stocks[1, 0] = np.nan\n",
    "np.isnan(stocks) # 결측치라면 True라고 나온다."
   ]
  },
  {
   "cell_type": "code",
   "execution_count": 73,
   "metadata": {},
   "outputs": [
    {
     "data": {
      "text/plain": [
       "array([[140.49,  40.68,  55.7 ,  98.2 , 109.96,  35.71,  87.85,  30.22],\n",
       "       [  0.  ,  41.53,  57.21,  99.19, 111.47,  36.27,  89.11,  30.91]])"
      ]
     },
     "execution_count": 73,
     "metadata": {},
     "output_type": "execute_result"
    }
   ],
   "source": [
    "stocks[np.isnan(stocks)] = 0\n",
    "stocks"
   ]
  },
  {
   "cell_type": "code",
   "execution_count": 74,
   "metadata": {},
   "outputs": [
    {
     "data": {
      "text/plain": [
       "array([-140.49,    0.  ,    1.51,    0.  ,    1.51,    0.  ,    1.26,\n",
       "          0.  ])"
      ]
     },
     "execution_count": 74,
     "metadata": {},
     "output_type": "execute_result"
    }
   ],
   "source": [
    "changes = np.where(np.abs(stocks[1] - stocks[0]) > 1.00,\n",
    "                   stocks[1] - stocks[0], 0)\n",
    "changes"
   ]
  },
  {
   "cell_type": "code",
   "execution_count": 75,
   "metadata": {},
   "outputs": [
    {
     "data": {
      "text/plain": [
       "array(['MMM', 'ABBV', 'ACE', 'ADBE'], dtype='<U4')"
      ]
     },
     "execution_count": 75,
     "metadata": {},
     "output_type": "execute_result"
    }
   ],
   "source": [
    "sap[np.nonzero(changes)]"
   ]
  },
  {
   "cell_type": "code",
   "execution_count": 76,
   "metadata": {},
   "outputs": [
    {
     "data": {
      "text/plain": [
       "array(['MMM', 'ABBV', 'ACE', 'ADBE'], dtype='<U4')"
      ]
     },
     "execution_count": 76,
     "metadata": {},
     "output_type": "execute_result"
    }
   ],
   "source": [
    "sap[np.abs(stocks[1] - stocks[0]) > 1.00]"
   ]
  },
  {
   "cell_type": "code",
   "execution_count": 77,
   "metadata": {},
   "outputs": [
    {
     "data": {
      "text/plain": [
       "array(['MMM'], dtype='<U4')"
      ]
     },
     "execution_count": 77,
     "metadata": {},
     "output_type": "execute_result"
    }
   ],
   "source": [
    "sap[         np.abs(stocks[0] - stocks[1])\n",
    "   > np.mean(np.abs(stocks[0] - stocks[1]))]"
   ]
  },
  {
   "cell_type": "code",
   "execution_count": 78,
   "metadata": {},
   "outputs": [
    {
     "data": {
      "text/plain": [
       "array(['A', 'G', 'T', 'C', 'C', 'G', 'C', 'G', 'A', 'A', 'T', 'A', 'C',\n",
       "       'A', 'G', 'G', 'C', 'T', 'C', 'G', 'G', 'T'], dtype='<U1')"
      ]
     },
     "execution_count": 78,
     "metadata": {},
     "output_type": "execute_result"
    }
   ],
   "source": [
    "dna = \"AGTCCGCGAATACAGGCTCGGT\"\n",
    "dna_as_array = np.array(list(dna))\n",
    "dna_as_array"
   ]
  },
  {
   "cell_type": "code",
   "execution_count": 79,
   "metadata": {},
   "outputs": [
    {
     "data": {
      "text/plain": [
       "array(['A', 'C', 'G', 'T'], dtype='<U1')"
      ]
     },
     "execution_count": 79,
     "metadata": {},
     "output_type": "execute_result"
    }
   ],
   "source": [
    "np.unique(dna_as_array)"
   ]
  },
  {
   "cell_type": "code",
   "execution_count": 80,
   "metadata": {},
   "outputs": [
    {
     "data": {
      "text/plain": [
       "array([False,  True, False])"
      ]
     },
     "execution_count": 80,
     "metadata": {},
     "output_type": "execute_result"
    }
   ],
   "source": [
    "np.in1d([\"MSFT\", \"MMM\", \"AAPL\"], sap)"
   ]
  },
  {
   "cell_type": "code",
   "execution_count": 3,
   "metadata": {},
   "outputs": [],
   "source": [
    "# 6장 : pandas 다루기"
   ]
  },
  {
   "cell_type": "code",
   "execution_count": 13,
   "metadata": {},
   "outputs": [],
   "source": [
    "import pandas as pd\n",
    "import numpy as np"
   ]
  },
  {
   "cell_type": "code",
   "execution_count": 14,
   "metadata": {},
   "outputs": [],
   "source": [
    "# 마지막 값이 잘못되었다. 잠시 후에 이를 수정해보자."
   ]
  },
  {
   "cell_type": "code",
   "execution_count": 15,
   "metadata": {},
   "outputs": [
    {
     "data": {
      "text/plain": [
       "0     2.2\n",
       "1     3.4\n",
       "2     2.8\n",
       "3     1.6\n",
       "4     2.3\n",
       "5     2.7\n",
       "6     3.4\n",
       "7     3.2\n",
       "8     2.8\n",
       "9     3.8\n",
       "10   -0.4\n",
       "11    1.6\n",
       "12    3.2\n",
       "13    2.1\n",
       "14    1.5\n",
       "15    1.5\n",
       "dtype: float64"
      ]
     },
     "execution_count": 15,
     "metadata": {},
     "output_type": "execute_result"
    }
   ],
   "source": [
    "inflation = pd.Series((2.2, 3.4, 2.8, 1.6, 2.3, 2.7, 3.4, 3.2, 2.8, 3.8, \n",
    "-0.4, 1.6, 3.2, 2.1, 1.5, 1.5))\n",
    "inflation"
   ]
  },
  {
   "cell_type": "code",
   "execution_count": 16,
   "metadata": {},
   "outputs": [
    {
     "data": {
      "text/plain": [
       "16"
      ]
     },
     "execution_count": 16,
     "metadata": {},
     "output_type": "execute_result"
    }
   ],
   "source": [
    "len(inflation)"
   ]
  },
  {
   "cell_type": "code",
   "execution_count": 17,
   "metadata": {},
   "outputs": [
    {
     "data": {
      "text/plain": [
       "array([ 2.2,  3.4,  2.8,  1.6,  2.3,  2.7,  3.4,  3.2,  2.8,  3.8, -0.4,\n",
       "        1.6,  3.2,  2.1,  1.5,  1.5])"
      ]
     },
     "execution_count": 17,
     "metadata": {},
     "output_type": "execute_result"
    }
   ],
   "source": [
    "inflation.values"
   ]
  },
  {
   "cell_type": "code",
   "execution_count": 18,
   "metadata": {},
   "outputs": [
    {
     "data": {
      "text/plain": [
       "RangeIndex(start=0, stop=16, step=1)"
      ]
     },
     "execution_count": 18,
     "metadata": {},
     "output_type": "execute_result"
    }
   ],
   "source": [
    "inflation.index"
   ]
  },
  {
   "cell_type": "code",
   "execution_count": 19,
   "metadata": {},
   "outputs": [
    {
     "data": {
      "text/plain": [
       "array([ 0,  1,  2,  3,  4,  5,  6,  7,  8,  9, 10, 11, 12, 13, 14, 15],\n",
       "      dtype=int64)"
      ]
     },
     "execution_count": 19,
     "metadata": {},
     "output_type": "execute_result"
    }
   ],
   "source": [
    "inflation.index.values"
   ]
  },
  {
   "cell_type": "code",
   "execution_count": 20,
   "metadata": {},
   "outputs": [],
   "source": [
    "inflation = pd.Series({1999 : 2.2, 2000 : 3.4, 2001 : 2.8, 2002 : 1.6, 2003 : 2.3, 2004 : 2.7, 2005 : 3.4, 2006 : 3.2, 2007 : 2.8, 2008 : 3.8, 2009 : -0.4, 2010 : 1.6, 2011 : 3.2, 2012 : 2.1, 2013 : 1.5, 2014 : 1.6, 2015 : np.nan})"
   ]
  },
  {
   "cell_type": "code",
   "execution_count": 21,
   "metadata": {},
   "outputs": [
    {
     "data": {
      "text/plain": [
       "1999    2.2\n",
       "2000    3.4\n",
       "2001    2.8\n",
       "2002    1.6\n",
       "2003    2.3\n",
       "2004    2.7\n",
       "2005    3.4\n",
       "2006    3.2\n",
       "2007    2.8\n",
       "2008    3.8\n",
       "2009   -0.4\n",
       "2010    1.6\n",
       "2011    3.2\n",
       "2012    2.1\n",
       "2013    1.5\n",
       "2014    1.6\n",
       "2015    NaN\n",
       "dtype: float64"
      ]
     },
     "execution_count": 21,
     "metadata": {},
     "output_type": "execute_result"
    }
   ],
   "source": [
    "inflation"
   ]
  },
  {
   "cell_type": "code",
   "execution_count": 22,
   "metadata": {},
   "outputs": [],
   "source": [
    "inflation = pd.Series((2.2, 3.4, 2.8, 1.6, 2.3, 2.7, 3.4, 3.2, 2.8, 3.8, \n",
    "-0.4, 1.6, 3.2, 2.1, 1.6, 1.5))"
   ]
  },
  {
   "cell_type": "code",
   "execution_count": 23,
   "metadata": {},
   "outputs": [],
   "source": [
    "inflation.index = pd.Index(range(1999, 2015))"
   ]
  },
  {
   "cell_type": "code",
   "execution_count": 25,
   "metadata": {},
   "outputs": [],
   "source": [
    "inflation[2015] = np.nan"
   ]
  },
  {
   "cell_type": "code",
   "execution_count": 26,
   "metadata": {},
   "outputs": [
    {
     "data": {
      "text/plain": [
       "Year\n",
       "1999    2.2\n",
       "2000    3.4\n",
       "2001    2.8\n",
       "2002    1.6\n",
       "2003    2.3\n",
       "2004    2.7\n",
       "2005    3.4\n",
       "2006    3.2\n",
       "2007    2.8\n",
       "2008    3.8\n",
       "2009   -0.4\n",
       "2010    1.6\n",
       "2011    3.2\n",
       "2012    2.1\n",
       "2013    1.6\n",
       "2014    1.5\n",
       "2015    NaN\n",
       "Name: %, dtype: float64"
      ]
     },
     "execution_count": 26,
     "metadata": {},
     "output_type": "execute_result"
    }
   ],
   "source": [
    "inflation.index.name = \"Year\" \n",
    "inflation.name = \"%\"\n",
    "inflation"
   ]
  },
  {
   "cell_type": "code",
   "execution_count": 27,
   "metadata": {},
   "outputs": [
    {
     "data": {
      "text/plain": [
       "Year\n",
       "1999    2.2\n",
       "2000    3.4\n",
       "2001    2.8\n",
       "2002    1.6\n",
       "2003    2.3\n",
       "Name: %, dtype: float64"
      ]
     },
     "execution_count": 27,
     "metadata": {},
     "output_type": "execute_result"
    }
   ],
   "source": [
    "inflation.head()"
   ]
  },
  {
   "cell_type": "code",
   "execution_count": 28,
   "metadata": {},
   "outputs": [
    {
     "data": {
      "text/plain": [
       "Year\n",
       "2011    3.2\n",
       "2012    2.1\n",
       "2013    1.6\n",
       "2014    1.5\n",
       "2015    NaN\n",
       "Name: %, dtype: float64"
      ]
     },
     "execution_count": 28,
     "metadata": {},
     "output_type": "execute_result"
    }
   ],
   "source": [
    "inflation.tail()"
   ]
  },
  {
   "cell_type": "code",
   "execution_count": 6,
   "metadata": {},
   "outputs": [],
   "source": [
    "import pandas as pd"
   ]
  },
  {
   "cell_type": "code",
   "execution_count": 33,
   "metadata": {},
   "outputs": [
    {
     "data": {
      "text/html": [
       "<div>\n",
       "<style scoped>\n",
       "    .dataframe tbody tr th:only-of-type {\n",
       "        vertical-align: middle;\n",
       "    }\n",
       "\n",
       "    .dataframe tbody tr th {\n",
       "        vertical-align: top;\n",
       "    }\n",
       "\n",
       "    .dataframe thead th {\n",
       "        text-align: right;\n",
       "    }\n",
       "</style>\n",
       "<table border=\"1\" class=\"dataframe\">\n",
       "  <thead>\n",
       "    <tr style=\"text-align: right;\">\n",
       "      <th></th>\n",
       "      <th>Beer</th>\n",
       "      <th>Wine</th>\n",
       "      <th>Spirits</th>\n",
       "    </tr>\n",
       "    <tr>\n",
       "      <th>State</th>\n",
       "      <th></th>\n",
       "      <th></th>\n",
       "      <th></th>\n",
       "    </tr>\n",
       "  </thead>\n",
       "  <tbody>\n",
       "    <tr>\n",
       "      <td>Alabama</td>\n",
       "      <td>1.20</td>\n",
       "      <td>0.22</td>\n",
       "      <td>0.58</td>\n",
       "    </tr>\n",
       "    <tr>\n",
       "      <td>Alaska</td>\n",
       "      <td>1.31</td>\n",
       "      <td>0.54</td>\n",
       "      <td>1.16</td>\n",
       "    </tr>\n",
       "    <tr>\n",
       "      <td>Arizona</td>\n",
       "      <td>1.19</td>\n",
       "      <td>0.38</td>\n",
       "      <td>0.74</td>\n",
       "    </tr>\n",
       "    <tr>\n",
       "      <td>Arkansas</td>\n",
       "      <td>1.07</td>\n",
       "      <td>0.17</td>\n",
       "      <td>0.60</td>\n",
       "    </tr>\n",
       "    <tr>\n",
       "      <td>California</td>\n",
       "      <td>1.05</td>\n",
       "      <td>0.55</td>\n",
       "      <td>0.73</td>\n",
       "    </tr>\n",
       "    <tr>\n",
       "      <td>Colorado</td>\n",
       "      <td>1.22</td>\n",
       "      <td>0.46</td>\n",
       "      <td>1.00</td>\n",
       "    </tr>\n",
       "    <tr>\n",
       "      <td>Connecticut</td>\n",
       "      <td>0.89</td>\n",
       "      <td>0.59</td>\n",
       "      <td>0.86</td>\n",
       "    </tr>\n",
       "    <tr>\n",
       "      <td>Delaware</td>\n",
       "      <td>1.31</td>\n",
       "      <td>0.57</td>\n",
       "      <td>1.25</td>\n",
       "    </tr>\n",
       "    <tr>\n",
       "      <td>District of Columbia</td>\n",
       "      <td>1.26</td>\n",
       "      <td>1.00</td>\n",
       "      <td>1.64</td>\n",
       "    </tr>\n",
       "    <tr>\n",
       "      <td>Florida</td>\n",
       "      <td>1.21</td>\n",
       "      <td>0.48</td>\n",
       "      <td>0.92</td>\n",
       "    </tr>\n",
       "    <tr>\n",
       "      <td>Georgia</td>\n",
       "      <td>1.08</td>\n",
       "      <td>0.25</td>\n",
       "      <td>0.64</td>\n",
       "    </tr>\n",
       "    <tr>\n",
       "      <td>Hawaii</td>\n",
       "      <td>1.30</td>\n",
       "      <td>0.53</td>\n",
       "      <td>0.75</td>\n",
       "    </tr>\n",
       "    <tr>\n",
       "      <td>Idaho</td>\n",
       "      <td>1.05</td>\n",
       "      <td>0.92</td>\n",
       "      <td>0.70</td>\n",
       "    </tr>\n",
       "    <tr>\n",
       "      <td>Illinois</td>\n",
       "      <td>1.22</td>\n",
       "      <td>0.39</td>\n",
       "      <td>0.73</td>\n",
       "    </tr>\n",
       "    <tr>\n",
       "      <td>Indiana</td>\n",
       "      <td>1.09</td>\n",
       "      <td>0.25</td>\n",
       "      <td>0.73</td>\n",
       "    </tr>\n",
       "    <tr>\n",
       "      <td>Iowa</td>\n",
       "      <td>1.42</td>\n",
       "      <td>0.18</td>\n",
       "      <td>0.72</td>\n",
       "    </tr>\n",
       "    <tr>\n",
       "      <td>Kansas</td>\n",
       "      <td>1.18</td>\n",
       "      <td>0.14</td>\n",
       "      <td>0.67</td>\n",
       "    </tr>\n",
       "    <tr>\n",
       "      <td>Kentucky</td>\n",
       "      <td>1.11</td>\n",
       "      <td>0.18</td>\n",
       "      <td>0.65</td>\n",
       "    </tr>\n",
       "    <tr>\n",
       "      <td>Louisiana</td>\n",
       "      <td>1.50</td>\n",
       "      <td>0.28</td>\n",
       "      <td>0.85</td>\n",
       "    </tr>\n",
       "    <tr>\n",
       "      <td>Maine</td>\n",
       "      <td>1.24</td>\n",
       "      <td>0.42</td>\n",
       "      <td>0.83</td>\n",
       "    </tr>\n",
       "    <tr>\n",
       "      <td>Maryland</td>\n",
       "      <td>0.97</td>\n",
       "      <td>0.37</td>\n",
       "      <td>0.87</td>\n",
       "    </tr>\n",
       "    <tr>\n",
       "      <td>Massachusetts</td>\n",
       "      <td>1.02</td>\n",
       "      <td>0.61</td>\n",
       "      <td>0.84</td>\n",
       "    </tr>\n",
       "    <tr>\n",
       "      <td>Michigan</td>\n",
       "      <td>1.10</td>\n",
       "      <td>0.31</td>\n",
       "      <td>0.80</td>\n",
       "    </tr>\n",
       "    <tr>\n",
       "      <td>Minnesota</td>\n",
       "      <td>1.19</td>\n",
       "      <td>0.37</td>\n",
       "      <td>1.04</td>\n",
       "    </tr>\n",
       "    <tr>\n",
       "      <td>Mississippi</td>\n",
       "      <td>1.41</td>\n",
       "      <td>0.11</td>\n",
       "      <td>0.71</td>\n",
       "    </tr>\n",
       "    <tr>\n",
       "      <td>Missouri</td>\n",
       "      <td>1.30</td>\n",
       "      <td>0.30</td>\n",
       "      <td>0.83</td>\n",
       "    </tr>\n",
       "    <tr>\n",
       "      <td>Montana</td>\n",
       "      <td>1.66</td>\n",
       "      <td>0.45</td>\n",
       "      <td>0.88</td>\n",
       "    </tr>\n",
       "    <tr>\n",
       "      <td>Nebraska</td>\n",
       "      <td>1.46</td>\n",
       "      <td>0.20</td>\n",
       "      <td>0.68</td>\n",
       "    </tr>\n",
       "    <tr>\n",
       "      <td>Nevada</td>\n",
       "      <td>1.57</td>\n",
       "      <td>0.58</td>\n",
       "      <td>1.15</td>\n",
       "    </tr>\n",
       "    <tr>\n",
       "      <td>New Hampshire</td>\n",
       "      <td>1.72</td>\n",
       "      <td>0.84</td>\n",
       "      <td>1.82</td>\n",
       "    </tr>\n",
       "    <tr>\n",
       "      <td>New Jersey</td>\n",
       "      <td>0.92</td>\n",
       "      <td>0.57</td>\n",
       "      <td>0.87</td>\n",
       "    </tr>\n",
       "    <tr>\n",
       "      <td>New Mexico</td>\n",
       "      <td>1.37</td>\n",
       "      <td>0.32</td>\n",
       "      <td>0.74</td>\n",
       "    </tr>\n",
       "    <tr>\n",
       "      <td>New York</td>\n",
       "      <td>0.91</td>\n",
       "      <td>0.46</td>\n",
       "      <td>0.69</td>\n",
       "    </tr>\n",
       "    <tr>\n",
       "      <td>North Carolina</td>\n",
       "      <td>1.10</td>\n",
       "      <td>0.34</td>\n",
       "      <td>0.58</td>\n",
       "    </tr>\n",
       "    <tr>\n",
       "      <td>North Dakota</td>\n",
       "      <td>1.63</td>\n",
       "      <td>0.25</td>\n",
       "      <td>1.16</td>\n",
       "    </tr>\n",
       "    <tr>\n",
       "      <td>Ohio</td>\n",
       "      <td>1.28</td>\n",
       "      <td>0.26</td>\n",
       "      <td>0.47</td>\n",
       "    </tr>\n",
       "    <tr>\n",
       "      <td>Oklahoma</td>\n",
       "      <td>1.18</td>\n",
       "      <td>0.18</td>\n",
       "      <td>0.58</td>\n",
       "    </tr>\n",
       "    <tr>\n",
       "      <td>Oregon</td>\n",
       "      <td>1.28</td>\n",
       "      <td>0.49</td>\n",
       "      <td>0.82</td>\n",
       "    </tr>\n",
       "    <tr>\n",
       "      <td>Pennsylvania</td>\n",
       "      <td>1.35</td>\n",
       "      <td>0.23</td>\n",
       "      <td>0.61</td>\n",
       "    </tr>\n",
       "    <tr>\n",
       "      <td>Rhode Island</td>\n",
       "      <td>1.10</td>\n",
       "      <td>0.53</td>\n",
       "      <td>0.92</td>\n",
       "    </tr>\n",
       "    <tr>\n",
       "      <td>South Carolina</td>\n",
       "      <td>1.36</td>\n",
       "      <td>0.24</td>\n",
       "      <td>0.77</td>\n",
       "    </tr>\n",
       "    <tr>\n",
       "      <td>South Dakota</td>\n",
       "      <td>1.53</td>\n",
       "      <td>0.22</td>\n",
       "      <td>0.88</td>\n",
       "    </tr>\n",
       "    <tr>\n",
       "      <td>Tennessee</td>\n",
       "      <td>1.05</td>\n",
       "      <td>0.21</td>\n",
       "      <td>0.57</td>\n",
       "    </tr>\n",
       "    <tr>\n",
       "      <td>Texas</td>\n",
       "      <td>1.42</td>\n",
       "      <td>0.28</td>\n",
       "      <td>0.58</td>\n",
       "    </tr>\n",
       "    <tr>\n",
       "      <td>Utah</td>\n",
       "      <td>0.70</td>\n",
       "      <td>0.17</td>\n",
       "      <td>0.46</td>\n",
       "    </tr>\n",
       "    <tr>\n",
       "      <td>Vermont</td>\n",
       "      <td>1.36</td>\n",
       "      <td>0.63</td>\n",
       "      <td>0.70</td>\n",
       "    </tr>\n",
       "    <tr>\n",
       "      <td>Virginia</td>\n",
       "      <td>1.11</td>\n",
       "      <td>0.43</td>\n",
       "      <td>0.59</td>\n",
       "    </tr>\n",
       "    <tr>\n",
       "      <td>Washington</td>\n",
       "      <td>1.09</td>\n",
       "      <td>0.51</td>\n",
       "      <td>0.74</td>\n",
       "    </tr>\n",
       "    <tr>\n",
       "      <td>West Virginia</td>\n",
       "      <td>1.24</td>\n",
       "      <td>0.10</td>\n",
       "      <td>0.45</td>\n",
       "    </tr>\n",
       "    <tr>\n",
       "      <td>Wisconsin</td>\n",
       "      <td>1.49</td>\n",
       "      <td>0.31</td>\n",
       "      <td>1.16</td>\n",
       "    </tr>\n",
       "    <tr>\n",
       "      <td>Wyoming</td>\n",
       "      <td>1.45</td>\n",
       "      <td>0.22</td>\n",
       "      <td>1.10</td>\n",
       "    </tr>\n",
       "  </tbody>\n",
       "</table>\n",
       "</div>"
      ],
      "text/plain": [
       "                      Beer  Wine  Spirits\n",
       "State                                    \n",
       "Alabama               1.20  0.22     0.58\n",
       "Alaska                1.31  0.54     1.16\n",
       "Arizona               1.19  0.38     0.74\n",
       "Arkansas              1.07  0.17     0.60\n",
       "California            1.05  0.55     0.73\n",
       "Colorado              1.22  0.46     1.00\n",
       "Connecticut           0.89  0.59     0.86\n",
       "Delaware              1.31  0.57     1.25\n",
       "District of Columbia  1.26  1.00     1.64\n",
       "Florida               1.21  0.48     0.92\n",
       "Georgia               1.08  0.25     0.64\n",
       "Hawaii                1.30  0.53     0.75\n",
       "Idaho                 1.05  0.92     0.70\n",
       "Illinois              1.22  0.39     0.73\n",
       "Indiana               1.09  0.25     0.73\n",
       "Iowa                  1.42  0.18     0.72\n",
       "Kansas                1.18  0.14     0.67\n",
       "Kentucky              1.11  0.18     0.65\n",
       "Louisiana             1.50  0.28     0.85\n",
       "Maine                 1.24  0.42     0.83\n",
       "Maryland              0.97  0.37     0.87\n",
       "Massachusetts         1.02  0.61     0.84\n",
       "Michigan              1.10  0.31     0.80\n",
       "Minnesota             1.19  0.37     1.04\n",
       "Mississippi           1.41  0.11     0.71\n",
       "Missouri              1.30  0.30     0.83\n",
       "Montana               1.66  0.45     0.88\n",
       "Nebraska              1.46  0.20     0.68\n",
       "Nevada                1.57  0.58     1.15\n",
       "New Hampshire         1.72  0.84     1.82\n",
       "New Jersey            0.92  0.57     0.87\n",
       "New Mexico            1.37  0.32     0.74\n",
       "New York              0.91  0.46     0.69\n",
       "North Carolina        1.10  0.34     0.58\n",
       "North Dakota          1.63  0.25     1.16\n",
       "Ohio                  1.28  0.26     0.47\n",
       "Oklahoma              1.18  0.18     0.58\n",
       "Oregon                1.28  0.49     0.82\n",
       "Pennsylvania          1.35  0.23     0.61\n",
       "Rhode Island          1.10  0.53     0.92\n",
       "South Carolina        1.36  0.24     0.77\n",
       "South Dakota          1.53  0.22     0.88\n",
       "Tennessee             1.05  0.21     0.57\n",
       "Texas                 1.42  0.28     0.58\n",
       "Utah                  0.70  0.17     0.46\n",
       "Vermont               1.36  0.63     0.70\n",
       "Virginia              1.11  0.43     0.59\n",
       "Washington            1.09  0.51     0.74\n",
       "West Virginia         1.24  0.10     0.45\n",
       "Wisconsin             1.49  0.31     1.16\n",
       "Wyoming               1.45  0.22     1.10"
      ]
     },
     "execution_count": 33,
     "metadata": {},
     "output_type": "execute_result"
    }
   ],
   "source": [
    "alco2009 = pd.read_csv(\"모두의 데이터과학 with 파이썬/예제파일/niaaa-report2009.csv\", index_col=\"State\")\n",
    "alco2009"
   ]
  },
  {
   "cell_type": "code",
   "execution_count": 34,
   "metadata": {},
   "outputs": [
    {
     "data": {
      "text/plain": [
       "State\n",
       "Alabama       0.22\n",
       "Alaska        0.54\n",
       "Arizona       0.38\n",
       "Arkansas      0.17\n",
       "California    0.55\n",
       "Name: Wine, dtype: float64"
      ]
     },
     "execution_count": 34,
     "metadata": {},
     "output_type": "execute_result"
    }
   ],
   "source": [
    "alco2009[\"Wine\"].head()"
   ]
  },
  {
   "cell_type": "code",
   "execution_count": 35,
   "metadata": {},
   "outputs": [
    {
     "data": {
      "text/plain": [
       "State\n",
       "Virginia         1.11\n",
       "Washington       1.09\n",
       "West Virginia    1.24\n",
       "Wisconsin        1.49\n",
       "Wyoming          1.45\n",
       "Name: Beer, dtype: float64"
      ]
     },
     "execution_count": 35,
     "metadata": {},
     "output_type": "execute_result"
    }
   ],
   "source": [
    "alco2009.Beer.tail()"
   ]
  },
  {
   "cell_type": "code",
   "execution_count": 36,
   "metadata": {},
   "outputs": [
    {
     "data": {
      "text/html": [
       "<div>\n",
       "<style scoped>\n",
       "    .dataframe tbody tr th:only-of-type {\n",
       "        vertical-align: middle;\n",
       "    }\n",
       "\n",
       "    .dataframe tbody tr th {\n",
       "        vertical-align: top;\n",
       "    }\n",
       "\n",
       "    .dataframe thead th {\n",
       "        text-align: right;\n",
       "    }\n",
       "</style>\n",
       "<table border=\"1\" class=\"dataframe\">\n",
       "  <thead>\n",
       "    <tr style=\"text-align: right;\">\n",
       "      <th></th>\n",
       "      <th>Beer</th>\n",
       "      <th>Wine</th>\n",
       "      <th>Spirits</th>\n",
       "      <th>Total</th>\n",
       "    </tr>\n",
       "    <tr>\n",
       "      <th>State</th>\n",
       "      <th></th>\n",
       "      <th></th>\n",
       "      <th></th>\n",
       "      <th></th>\n",
       "    </tr>\n",
       "  </thead>\n",
       "  <tbody>\n",
       "    <tr>\n",
       "      <td>Alabama</td>\n",
       "      <td>1.20</td>\n",
       "      <td>0.22</td>\n",
       "      <td>0.58</td>\n",
       "      <td>0</td>\n",
       "    </tr>\n",
       "    <tr>\n",
       "      <td>Alaska</td>\n",
       "      <td>1.31</td>\n",
       "      <td>0.54</td>\n",
       "      <td>1.16</td>\n",
       "      <td>0</td>\n",
       "    </tr>\n",
       "    <tr>\n",
       "      <td>Arizona</td>\n",
       "      <td>1.19</td>\n",
       "      <td>0.38</td>\n",
       "      <td>0.74</td>\n",
       "      <td>0</td>\n",
       "    </tr>\n",
       "    <tr>\n",
       "      <td>Arkansas</td>\n",
       "      <td>1.07</td>\n",
       "      <td>0.17</td>\n",
       "      <td>0.60</td>\n",
       "      <td>0</td>\n",
       "    </tr>\n",
       "    <tr>\n",
       "      <td>California</td>\n",
       "      <td>1.05</td>\n",
       "      <td>0.55</td>\n",
       "      <td>0.73</td>\n",
       "      <td>0</td>\n",
       "    </tr>\n",
       "  </tbody>\n",
       "</table>\n",
       "</div>"
      ],
      "text/plain": [
       "            Beer  Wine  Spirits  Total\n",
       "State                                 \n",
       "Alabama     1.20  0.22     0.58      0\n",
       "Alaska      1.31  0.54     1.16      0\n",
       "Arizona     1.19  0.38     0.74      0\n",
       "Arkansas    1.07  0.17     0.60      0\n",
       "California  1.05  0.55     0.73      0"
      ]
     },
     "execution_count": 36,
     "metadata": {},
     "output_type": "execute_result"
    }
   ],
   "source": [
    "alco2009[\"Total\"] = 0\n",
    "alco2009.head()"
   ]
  },
  {
   "cell_type": "code",
   "execution_count": 37,
   "metadata": {},
   "outputs": [
    {
     "data": {
      "text/plain": [
       "array(['Beer', 'Wine', 'Spirits', 'Total'], dtype=object)"
      ]
     },
     "execution_count": 37,
     "metadata": {},
     "output_type": "execute_result"
    }
   ],
   "source": [
    "alco2009.columns.values"
   ]
  },
  {
   "cell_type": "code",
   "execution_count": 38,
   "metadata": {},
   "outputs": [
    {
     "data": {
      "text/plain": [
       "array(['Alabama', 'Alaska', 'Arizona', 'Arkansas', 'California',\n",
       "       'Colorado', 'Connecticut', 'Delaware', 'District of Columbia',\n",
       "       'Florida', 'Georgia', 'Hawaii', 'Idaho', 'Illinois', 'Indiana',\n",
       "       'Iowa', 'Kansas', 'Kentucky', 'Louisiana', 'Maine', 'Maryland',\n",
       "       'Massachusetts', 'Michigan', 'Minnesota', 'Mississippi',\n",
       "       'Missouri', 'Montana', 'Nebraska', 'Nevada', 'New Hampshire',\n",
       "       'New Jersey', 'New Mexico', 'New York', 'North Carolina',\n",
       "       'North Dakota', 'Ohio', 'Oklahoma', 'Oregon', 'Pennsylvania',\n",
       "       'Rhode Island', 'South Carolina', 'South Dakota', 'Tennessee',\n",
       "       'Texas', 'Utah', 'Vermont', 'Virginia', 'Washington',\n",
       "       'West Virginia', 'Wisconsin', 'Wyoming'], dtype=object)"
      ]
     },
     "execution_count": 38,
     "metadata": {},
     "output_type": "execute_result"
    }
   ],
   "source": [
    "alco2009.index.values"
   ]
  },
  {
   "cell_type": "code",
   "execution_count": 39,
   "metadata": {},
   "outputs": [
    {
     "data": {
      "text/html": [
       "<div>\n",
       "<style scoped>\n",
       "    .dataframe tbody tr th:only-of-type {\n",
       "        vertical-align: middle;\n",
       "    }\n",
       "\n",
       "    .dataframe tbody tr th {\n",
       "        vertical-align: top;\n",
       "    }\n",
       "\n",
       "    .dataframe thead th {\n",
       "        text-align: right;\n",
       "    }\n",
       "</style>\n",
       "<table border=\"1\" class=\"dataframe\">\n",
       "  <thead>\n",
       "    <tr style=\"text-align: right;\">\n",
       "      <th></th>\n",
       "      <th>State</th>\n",
       "      <th>Wine</th>\n",
       "      <th>Spirits</th>\n",
       "      <th>Total</th>\n",
       "    </tr>\n",
       "    <tr>\n",
       "      <th>Beer</th>\n",
       "      <th></th>\n",
       "      <th></th>\n",
       "      <th></th>\n",
       "      <th></th>\n",
       "    </tr>\n",
       "  </thead>\n",
       "  <tbody>\n",
       "    <tr>\n",
       "      <td>1.20</td>\n",
       "      <td>Alabama</td>\n",
       "      <td>0.22</td>\n",
       "      <td>0.58</td>\n",
       "      <td>0</td>\n",
       "    </tr>\n",
       "    <tr>\n",
       "      <td>1.31</td>\n",
       "      <td>Alaska</td>\n",
       "      <td>0.54</td>\n",
       "      <td>1.16</td>\n",
       "      <td>0</td>\n",
       "    </tr>\n",
       "    <tr>\n",
       "      <td>1.19</td>\n",
       "      <td>Arizona</td>\n",
       "      <td>0.38</td>\n",
       "      <td>0.74</td>\n",
       "      <td>0</td>\n",
       "    </tr>\n",
       "    <tr>\n",
       "      <td>1.07</td>\n",
       "      <td>Arkansas</td>\n",
       "      <td>0.17</td>\n",
       "      <td>0.60</td>\n",
       "      <td>0</td>\n",
       "    </tr>\n",
       "    <tr>\n",
       "      <td>1.05</td>\n",
       "      <td>California</td>\n",
       "      <td>0.55</td>\n",
       "      <td>0.73</td>\n",
       "      <td>0</td>\n",
       "    </tr>\n",
       "  </tbody>\n",
       "</table>\n",
       "</div>"
      ],
      "text/plain": [
       "           State  Wine  Spirits  Total\n",
       "Beer                                  \n",
       "1.20     Alabama  0.22     0.58      0\n",
       "1.31      Alaska  0.54     1.16      0\n",
       "1.19     Arizona  0.38     0.74      0\n",
       "1.07    Arkansas  0.17     0.60      0\n",
       "1.05  California  0.55     0.73      0"
      ]
     },
     "execution_count": 39,
     "metadata": {},
     "output_type": "execute_result"
    }
   ],
   "source": [
    "alco2009.reset_index().set_index(\"Beer\").head()"
   ]
  },
  {
   "cell_type": "code",
   "execution_count": 40,
   "metadata": {},
   "outputs": [
    {
     "name": "stderr",
     "output_type": "stream",
     "text": [
      "C:\\Users\\user\\Anaconda3\\lib\\site-packages\\ipykernel_launcher.py:1: FutureWarning: \n",
      ".ix is deprecated. Please use\n",
      ".loc for label based indexing or\n",
      ".iloc for positional indexing\n",
      "\n",
      "See the documentation here:\n",
      "http://pandas.pydata.org/pandas-docs/stable/user_guide/indexing.html#ix-indexer-is-deprecated\n",
      "  \"\"\"Entry point for launching an IPython kernel.\n"
     ]
    },
    {
     "data": {
      "text/plain": [
       "Beer       1.46\n",
       "Wine       0.20\n",
       "Spirits    0.68\n",
       "Total      0.00\n",
       "Name: Nebraska, dtype: float64"
      ]
     },
     "execution_count": 40,
     "metadata": {},
     "output_type": "execute_result"
    }
   ],
   "source": [
    "alco2009.ix[\"Nebraska\"]"
   ]
  },
  {
   "cell_type": "code",
   "execution_count": 41,
   "metadata": {},
   "outputs": [
    {
     "data": {
      "text/plain": [
       "False"
      ]
     },
     "execution_count": 41,
     "metadata": {},
     "output_type": "execute_result"
    }
   ],
   "source": [
    "\"Samoa\" in alco2009.index"
   ]
  },
  {
   "cell_type": "code",
   "execution_count": 42,
   "metadata": {},
   "outputs": [
    {
     "data": {
      "text/plain": [
       "True"
      ]
     },
     "execution_count": 42,
     "metadata": {},
     "output_type": "execute_result"
    }
   ],
   "source": [
    "\"Alabama\" in alco2009.index"
   ]
  },
  {
   "cell_type": "code",
   "execution_count": 44,
   "metadata": {},
   "outputs": [
    {
     "data": {
      "text/plain": [
       "False"
      ]
     },
     "execution_count": 44,
     "metadata": {},
     "output_type": "execute_result"
    }
   ],
   "source": [
    "alco2009 = pd.read_csv(\"모두의 데이터과학 with 파이썬/예제파일/niaaa-report2009.csv\", index_col=\"State\")\n",
    "\"Samoa\" in alco2009.index"
   ]
  },
  {
   "cell_type": "code",
   "execution_count": 49,
   "metadata": {},
   "outputs": [
    {
     "data": {
      "text/html": [
       "<div>\n",
       "<style scoped>\n",
       "    .dataframe tbody tr th:only-of-type {\n",
       "        vertical-align: middle;\n",
       "    }\n",
       "\n",
       "    .dataframe tbody tr th {\n",
       "        vertical-align: top;\n",
       "    }\n",
       "\n",
       "    .dataframe thead th {\n",
       "        text-align: right;\n",
       "    }\n",
       "</style>\n",
       "<table border=\"1\" class=\"dataframe\">\n",
       "  <thead>\n",
       "    <tr style=\"text-align: right;\">\n",
       "      <th></th>\n",
       "      <th>Beer</th>\n",
       "      <th>Wine</th>\n",
       "      <th>Spirits</th>\n",
       "      <th>Water</th>\n",
       "    </tr>\n",
       "    <tr>\n",
       "      <th>State</th>\n",
       "      <th></th>\n",
       "      <th></th>\n",
       "      <th></th>\n",
       "      <th></th>\n",
       "    </tr>\n",
       "  </thead>\n",
       "  <tbody>\n",
       "    <tr>\n",
       "      <td>South Carolina</td>\n",
       "      <td>1.36</td>\n",
       "      <td>0.24</td>\n",
       "      <td>0.77</td>\n",
       "      <td>NaN</td>\n",
       "    </tr>\n",
       "    <tr>\n",
       "      <td>South Dakota</td>\n",
       "      <td>1.53</td>\n",
       "      <td>0.22</td>\n",
       "      <td>0.88</td>\n",
       "      <td>NaN</td>\n",
       "    </tr>\n",
       "    <tr>\n",
       "      <td>Samoa</td>\n",
       "      <td>1.53</td>\n",
       "      <td>0.22</td>\n",
       "      <td>0.88</td>\n",
       "      <td>NaN</td>\n",
       "    </tr>\n",
       "  </tbody>\n",
       "</table>\n",
       "</div>"
      ],
      "text/plain": [
       "                Beer  Wine  Spirits  Water\n",
       "State                                     \n",
       "South Carolina  1.36  0.24     0.77    NaN\n",
       "South Dakota    1.53  0.22     0.88    NaN\n",
       "Samoa           1.53  0.22     0.88    NaN"
      ]
     },
     "execution_count": 49,
     "metadata": {},
     "output_type": "execute_result"
    }
   ],
   "source": [
    "# 철자 'S'로 시작하는 주의 리스트 만들기\n",
    "s_states = [state for state in alco2009.index if state[0] == 'S'] + [\"Samoa\"]\n",
    "drinks = list(alco2009.columns) + [\"Water\"]\n",
    "nan_alco = alco2009.reindex(s_states, columns=drinks).fillna(method=\"ffill\")\n",
    "nan_alco"
   ]
  },
  {
   "cell_type": "code",
   "execution_count": 17,
   "metadata": {},
   "outputs": [
    {
     "data": {
      "text/html": [
       "<div>\n",
       "<style scoped>\n",
       "    .dataframe tbody tr th:only-of-type {\n",
       "        vertical-align: middle;\n",
       "    }\n",
       "\n",
       "    .dataframe tbody tr th {\n",
       "        vertical-align: top;\n",
       "    }\n",
       "\n",
       "    .dataframe thead th {\n",
       "        text-align: right;\n",
       "    }\n",
       "</style>\n",
       "<table border=\"1\" class=\"dataframe\">\n",
       "  <thead>\n",
       "    <tr style=\"text-align: right;\">\n",
       "      <th></th>\n",
       "      <th></th>\n",
       "      <th>Beer</th>\n",
       "      <th>Wine</th>\n",
       "      <th>Spirits</th>\n",
       "    </tr>\n",
       "    <tr>\n",
       "      <th>State</th>\n",
       "      <th>Year</th>\n",
       "      <th></th>\n",
       "      <th></th>\n",
       "      <th></th>\n",
       "    </tr>\n",
       "  </thead>\n",
       "  <tbody>\n",
       "    <tr>\n",
       "      <td rowspan=\"5\" valign=\"top\">Alabama</td>\n",
       "      <td>1977</td>\n",
       "      <td>0.99</td>\n",
       "      <td>0.13</td>\n",
       "      <td>0.84</td>\n",
       "    </tr>\n",
       "    <tr>\n",
       "      <td>1978</td>\n",
       "      <td>0.98</td>\n",
       "      <td>0.12</td>\n",
       "      <td>0.88</td>\n",
       "    </tr>\n",
       "    <tr>\n",
       "      <td>1979</td>\n",
       "      <td>0.98</td>\n",
       "      <td>0.12</td>\n",
       "      <td>0.84</td>\n",
       "    </tr>\n",
       "    <tr>\n",
       "      <td>1980</td>\n",
       "      <td>0.96</td>\n",
       "      <td>0.16</td>\n",
       "      <td>0.74</td>\n",
       "    </tr>\n",
       "    <tr>\n",
       "      <td>1981</td>\n",
       "      <td>1.00</td>\n",
       "      <td>0.19</td>\n",
       "      <td>0.73</td>\n",
       "    </tr>\n",
       "    <tr>\n",
       "      <td>...</td>\n",
       "      <td>...</td>\n",
       "      <td>...</td>\n",
       "      <td>...</td>\n",
       "      <td>...</td>\n",
       "    </tr>\n",
       "    <tr>\n",
       "      <td rowspan=\"5\" valign=\"top\">Wyoming</td>\n",
       "      <td>2005</td>\n",
       "      <td>1.21</td>\n",
       "      <td>0.23</td>\n",
       "      <td>0.97</td>\n",
       "    </tr>\n",
       "    <tr>\n",
       "      <td>2006</td>\n",
       "      <td>1.47</td>\n",
       "      <td>0.23</td>\n",
       "      <td>1.05</td>\n",
       "    </tr>\n",
       "    <tr>\n",
       "      <td>2007</td>\n",
       "      <td>1.49</td>\n",
       "      <td>0.23</td>\n",
       "      <td>1.10</td>\n",
       "    </tr>\n",
       "    <tr>\n",
       "      <td>2008</td>\n",
       "      <td>1.54</td>\n",
       "      <td>0.23</td>\n",
       "      <td>1.12</td>\n",
       "    </tr>\n",
       "    <tr>\n",
       "      <td>2009</td>\n",
       "      <td>1.45</td>\n",
       "      <td>0.22</td>\n",
       "      <td>1.10</td>\n",
       "    </tr>\n",
       "  </tbody>\n",
       "</table>\n",
       "<p>1683 rows × 3 columns</p>\n",
       "</div>"
      ],
      "text/plain": [
       "              Beer  Wine  Spirits\n",
       "State   Year                     \n",
       "Alabama 1977  0.99  0.13     0.84\n",
       "        1978  0.98  0.12     0.88\n",
       "        1979  0.98  0.12     0.84\n",
       "        1980  0.96  0.16     0.74\n",
       "        1981  1.00  0.19     0.73\n",
       "...            ...   ...      ...\n",
       "Wyoming 2005  1.21  0.23     0.97\n",
       "        2006  1.47  0.23     1.05\n",
       "        2007  1.49  0.23     1.10\n",
       "        2008  1.54  0.23     1.12\n",
       "        2009  1.45  0.22     1.10\n",
       "\n",
       "[1683 rows x 3 columns]"
      ]
     },
     "execution_count": 17,
     "metadata": {},
     "output_type": "execute_result"
    }
   ],
   "source": [
    "alco = pd.read_csv(\"모두의 데이터과학 with 파이썬/예제파일/niaaa-report.csv\", index_col=[\"State\",\"Year\"])\n",
    "alco"
   ]
  },
  {
   "cell_type": "code",
   "execution_count": 20,
   "metadata": {},
   "outputs": [],
   "source": [
    "alco.index = multi"
   ]
  },
  {
   "cell_type": "code",
   "execution_count": 21,
   "metadata": {},
   "outputs": [
    {
     "name": "stderr",
     "output_type": "stream",
     "text": [
      "C:\\Users\\user\\Anaconda3\\lib\\site-packages\\ipykernel_launcher.py:1: FutureWarning: \n",
      ".ix is deprecated. Please use\n",
      ".loc for label based indexing or\n",
      ".iloc for positional indexing\n",
      "\n",
      "See the documentation here:\n",
      "http://pandas.pydata.org/pandas-docs/stable/user_guide/indexing.html#ix-indexer-is-deprecated\n",
      "  \"\"\"Entry point for launching an IPython kernel.\n"
     ]
    },
    {
     "data": {
      "text/html": [
       "<div>\n",
       "<style scoped>\n",
       "    .dataframe tbody tr th:only-of-type {\n",
       "        vertical-align: middle;\n",
       "    }\n",
       "\n",
       "    .dataframe tbody tr th {\n",
       "        vertical-align: top;\n",
       "    }\n",
       "\n",
       "    .dataframe thead th {\n",
       "        text-align: right;\n",
       "    }\n",
       "</style>\n",
       "<table border=\"1\" class=\"dataframe\">\n",
       "  <thead>\n",
       "    <tr style=\"text-align: right;\">\n",
       "      <th></th>\n",
       "      <th>Beer</th>\n",
       "      <th>Wine</th>\n",
       "      <th>Spirits</th>\n",
       "    </tr>\n",
       "    <tr>\n",
       "      <th>Year</th>\n",
       "      <th></th>\n",
       "      <th></th>\n",
       "      <th></th>\n",
       "    </tr>\n",
       "  </thead>\n",
       "  <tbody>\n",
       "    <tr>\n",
       "      <td>1977</td>\n",
       "      <td>1.79</td>\n",
       "      <td>0.21</td>\n",
       "      <td>1.32</td>\n",
       "    </tr>\n",
       "    <tr>\n",
       "      <td>1978</td>\n",
       "      <td>1.82</td>\n",
       "      <td>0.22</td>\n",
       "      <td>1.36</td>\n",
       "    </tr>\n",
       "    <tr>\n",
       "      <td>1979</td>\n",
       "      <td>1.86</td>\n",
       "      <td>0.22</td>\n",
       "      <td>1.30</td>\n",
       "    </tr>\n",
       "    <tr>\n",
       "      <td>1980</td>\n",
       "      <td>1.85</td>\n",
       "      <td>0.24</td>\n",
       "      <td>1.32</td>\n",
       "    </tr>\n",
       "    <tr>\n",
       "      <td>1981</td>\n",
       "      <td>1.91</td>\n",
       "      <td>0.24</td>\n",
       "      <td>1.27</td>\n",
       "    </tr>\n",
       "  </tbody>\n",
       "</table>\n",
       "</div>"
      ],
      "text/plain": [
       "      Beer  Wine  Spirits\n",
       "Year                     \n",
       "1977  1.79  0.21     1.32\n",
       "1978  1.82  0.22     1.36\n",
       "1979  1.86  0.22     1.30\n",
       "1980  1.85  0.24     1.32\n",
       "1981  1.91  0.24     1.27"
      ]
     },
     "execution_count": 21,
     "metadata": {},
     "output_type": "execute_result"
    }
   ],
   "source": [
    "alco.ix['Wyoming'].head() "
   ]
  },
  {
   "cell_type": "code",
   "execution_count": 22,
   "metadata": {},
   "outputs": [
    {
     "name": "stderr",
     "output_type": "stream",
     "text": [
      "C:\\Users\\user\\Anaconda3\\lib\\site-packages\\ipykernel_launcher.py:1: FutureWarning: \n",
      ".ix is deprecated. Please use\n",
      ".loc for label based indexing or\n",
      ".iloc for positional indexing\n",
      "\n",
      "See the documentation here:\n",
      "http://pandas.pydata.org/pandas-docs/stable/user_guide/indexing.html#ix-indexer-is-deprecated\n",
      "  \"\"\"Entry point for launching an IPython kernel.\n"
     ]
    },
    {
     "data": {
      "text/plain": [
       "Beer       1.41\n",
       "Wine       0.18\n",
       "Spirits    0.84\n",
       "Name: (Wyoming, 1999), dtype: float64"
      ]
     },
     "execution_count": 22,
     "metadata": {},
     "output_type": "execute_result"
    }
   ],
   "source": [
    "alco.ix['Wyoming', 1999] "
   ]
  },
  {
   "cell_type": "code",
   "execution_count": 24,
   "metadata": {},
   "outputs": [
    {
     "data": {
      "text/plain": [
       "State    Year  Drink  \n",
       "Alabama  1977  Beer       0.99\n",
       "               Wine       0.13\n",
       "               Spirits    0.84\n",
       "         1978  Beer       0.98\n",
       "               Wine       0.12\n",
       "               Spirits    0.88\n",
       "         1979  Beer       0.98\n",
       "               Wine       0.12\n",
       "               Spirits    0.84\n",
       "         1980  Beer       0.96\n",
       "dtype: float64"
      ]
     },
     "execution_count": 24,
     "metadata": {},
     "output_type": "execute_result"
    }
   ],
   "source": [
    "tall_alco = alco.stack()\n",
    "tall_alco.index.names = [\"State\", \"Year\", \"Drink\"] \n",
    "tall_alco.head(10)"
   ]
  },
  {
   "cell_type": "code",
   "execution_count": 53,
   "metadata": {},
   "outputs": [
    {
     "ename": "SyntaxError",
     "evalue": "invalid character in identifier (<ipython-input-53-e8390c35bae5>, line 11)",
     "output_type": "error",
     "traceback": [
      "\u001b[1;36m  File \u001b[1;32m\"<ipython-input-53-e8390c35bae5>\"\u001b[1;36m, line \u001b[1;32m11\u001b[0m\n\u001b[1;33m    tall_alco.index.names = [“State”, “Year”, “Drink”]\u001b[0m\n\u001b[1;37m                                   ^\u001b[0m\n\u001b[1;31mSyntaxError\u001b[0m\u001b[1;31m:\u001b[0m invalid character in identifier\n"
     ]
    }
   ],
   "source": [
    "wide_alco = alco.unstack()\n",
    "wide_alco.head()\n",
    "---------------------------------------\n",
    "\n",
    "\n",
    "alco = pd.read_csv(\"niaaa-report.csv\")\n",
    "alco.pivot(\"Year\", \"State\", \"Wine\")\n",
    "\n",
    "\n",
    "nan_alco.dropna(how=\"all\")\n",
    "\n",
    "\n",
    "nan_alco.dropna(how=\"all\", axis=1)\n",
    "\n",
    "\n",
    "nan_alco.dropna()\n",
    "\n",
    "\n",
    "nan_alco.isnull()\n",
    "\n",
    "\n",
    "nan_alco.notnull()\n",
    "---------------------------------------\n",
    "\n",
    "\n",
    "sp = nan_alco['Spirits'] # 결측값이 있는 열을 선택했다.\n",
    "clean = sp.notnull() # 결측값이 없는 행\n",
    "sp[-clean] = sp[clean].mean() # 정상적인 값의 평균으로 결측치를 보정한다.\n",
    "nan_alco\n",
    "\n",
    "\n",
    "nan_alco.fillna(0)\n",
    "\n",
    "\n",
    "nan_alco.fillna(method=\"ffill\")\n",
    "---------------------------------------\n",
    "\n",
    "\n",
    "population = pd.read_csv(\"population.csv\", index_col=\"State\")\n",
    "population.head()\n",
    "\n",
    "\n",
    "\n",
    "df = pd.merge(alco2009.reset_index(), \n",
    "     population.reset_index()).set_index(\"State\")\n",
    "df.head()\n",
    "\n",
    "\n",
    "df = pd.merge(alco2009, population, left_index=True, right_index=True)\n",
    "df.head()\n",
    "\n",
    "\n",
    "population.join(alco2009).tail(10)\n",
    "\n",
    "\n",
    "pd.concat([alco2009, population], axis=1).tail()\n",
    "---------------------------------------\n",
    "\n",
    "\n",
    "pop_ca = pd.read_csv(\"demo02a-eng.csv\", index_col=\"State\")\n",
    "pop_ca\n",
    "\n",
    "\n",
    "pop_na = pd.concat([population, pop_ca], keys=[\"US\", \"CA\"]) \n",
    "pop_na.index.names = (\"Country\", \"State\")\n",
    "pop_na\n",
    "---------------------------------------\n",
    "\n",
    "\n",
    "population.sort_index().head()\n",
    "\n",
    "\n",
    "population.sort_values(\"Population\").head()\n",
    "\n",
    "\n",
    "pop_by_state = population.sort_index()\n",
    "pop_by_state.rank().head()\n",
    "---------------------------------------\n",
    "\n",
    "\n",
    "alco2009.max() \n",
    "\n",
    "\n",
    "alco2009.min(axis=1) \n",
    "\n",
    "\n",
    "alco2009.sum() \n",
    "---------------------------------------\n",
    "\n",
    "\n",
    "내려받은 예제 파일에 실습을 위한 multi.txt 파일이 있습니다.\n",
    "\n",
    "multi.txt를 참고하세요.\n",
    "---------------------------------------\n",
    "\n",
    "\n",
    "alco.index = multi\n",
    "\n",
    "alco['Total'] = alco.Beer + alco.Wine + alco.Spirits\n",
    "---------------------------------------\n",
    "\n",
    "\n",
    "import pickle\n",
    "with open(“alco.pickle”, “wb”) as oFile:\n",
    "  pickle.dump(alco, oFile)\n",
    "\n",
    "alco.ix['Hawaii'].cumsum().head()\n",
    "\n",
    "\n",
    "alco.ix['Hawaii'].diff().head()\n",
    "---------------------------------------\n",
    "\n",
    "\n",
    "dna = \"AGTCCGCGAATACAGGCTCGGT\"\n",
    "dna_as_series = pd.Series(list(dna), name=\"genes\")\n",
    "dna_as_series.head()\n",
    "\n",
    "\n",
    "dna_as_series.unique()\n",
    "\n",
    "\n",
    "dna_as_series.value_counts().sort_index()\n",
    "\n",
    "\n",
    "valid_nucs = list(\"ACGT\")\n",
    "dna_as_series.isin(valid_nucs).all()\n",
    "---------------------------------------\n",
    "\n",
    "\n",
    "alco[\"Total\"] = alco.Wine + alco.Spirits + alco.Beer\n",
    "alco.head()\n",
    "\n",
    "\n",
    "np.log10(alco.Total).head()\n",
    "\n",
    "\n",
    "dna = \"AGTCCGCGAATACAGGCTCGGT\"\n",
    "dna1 = dna.replace(\"C\", \"\")\n",
    "dna2 = dna.replace(\"T\", \"\")\n",
    "dna_as_series1 = pd.Series(list(dna1), name=\"genes\") # C가 제거되었다.\n",
    "dna_as_series2 = pd.Series(list(dna2), name=\"genes\") # T가 제거되었다.\n",
    "dna_as_series1.value_counts() + dna_as_series2.value_counts()\n",
    "---------------------------------------\n",
    "\n",
    "\n",
    "# “Year” 열로 데이터를 묶고자 한다.\n",
    "alco_noidx = alco.reset_index()\n",
    "sum_alco = alco_noidx.groupby(\"Year\").sum() \n",
    "sum_alco.tail()\n",
    "---------------------------------------\n",
    "\n",
    "\n",
    "내려받은 예제 파일에 실습을 위한 state2reg.txt 파일이 있습니다.\n",
    "\n",
    "state2reg.txt\n",
    "\n",
    "\n",
    "state2reg = {'Connecticut' : 'NORTHEAST', 'Maine' : 'NORTHEAST', 'Massachusetts' : 'NORTHEAST', 'New Hampshire' : 'NORTHEAST', 'Rhode Island' : 'NORTHEAST', 'Vermont' : 'NORTHEAST', 'New Jersey' : 'NORTHEAST', 'New York' : 'NORTHEAST','Pennsylvania': 'NORTHEAST', 'Illinois': 'MIDWEST', 'Indiana': 'MIDWEST', 'Michigan': 'MIDWEST', 'Ohio': 'MIDWEST', 'Wisconsin': 'MIDWEST', 'Iowa': 'MIDWEST', 'Kansas': 'MIDWEST',\n",
    "\n",
    "'Minnesota': 'MIDWEST', 'Missouri': 'MIDWEST', 'Nebraska': 'MIDWEST', 'North Dakota': 'MIDWEST', 'South Dakota': 'MIDWEST', 'Delaware': 'SOUTH',\n",
    "\n",
    "'District of Columbia': 'SOUTH', 'Florida': 'SOUTH', 'Georgia': 'SOUTH', 'Maryland': 'SOUTH', 'North Carolina': 'SOUTH', 'South Carolina': 'SOUTH',\n",
    "\n",
    "'Virginia': 'SOUTH', 'West Virginia': 'SOUTH', 'Alabama': 'SOUTH', 'Kentucky': 'SOUTH', 'Mississippi': 'SOUTH', 'Tennessee': 'SOUTH', 'Arkansas': 'SOUTH',\n",
    "\n",
    "'Louisiana': 'SOUTH', 'Oklahoma': 'SOUTH', 'Texas': 'SOUTH', 'Arizona': 'WEST', 'Colorado': 'WEST', 'Idaho': 'WEST', 'Montana': 'WEST', 'Nevada': 'WEST',\n",
    "\n",
    "'New Mexico': 'WEST', 'Utah': 'WEST', 'Wyoming': 'WEST', 'Alaska': 'WEST', 'California': 'WEST', 'Hawaii': 'WEST', 'Oregon': 'WEST', 'Washington': 'WEST'}\n",
    "---------------------------------------\n",
    "\n",
    "\n",
    "alco2009.groupby(state2reg).mean()\n",
    "\n",
    "\n",
    "cats = pd.cut(alco2009['Wine'], 3).head()\n",
    "cats\n",
    "\n",
    "\n",
    "cats = pd.cut(alco2009['Wine'], 3, labels=(\"Low\", \"Moderate\", \"Heavy\"))\n",
    "cats.head()\n",
    "\n",
    "\n",
    "cats = pd.cut(alco2009['Wine'], 3, labels=False).head()\n",
    "cats\n",
    "\n",
    "\n",
    "quants = pd.qcut(alco2009['Wine'], 3, labels=(\"Low\", \"Moderate\", \"Heavy\"))\n",
    "quants.head()\n",
    "\n",
    "\n",
    "pd.get_dummies(pd.Series(state2reg)).sort_index().head()\n",
    "\n",
    "\n",
    "with_state = alco2009.reset_index()\n",
    "abbrevs = with_state[\"State\"].map(lambda x: x[:3].upper())\n",
    "abbrevs.head()\n",
    "\n",
    "\n",
    "wine_state = alco2009[\"Wine\"] > alco2009[\"Wine\"].mean()\n",
    "beer_state = alco2009[\"Beer\"] > alco2009[\"Beer\"].mean()\n",
    "pd.crosstab(wine_state, beer_state)\n",
    "---------------------------------------\n",
    "\n",
    "\n",
    "# regions.csv 파일을 읽어온다. 내려받은 region.csv 파일을 사용한다.\n",
    "regions = pd.read_csv(\"regions.csv\",  \n",
    "                     header=None,\n",
    "                     names=(\"region\", \"division\", \"state\"))\n",
    "state2reg_series = regions.ffill().set_index(\"state\")[\"region\"]\n",
    "state2reg_series.head()\n",
    "---------------------------------------\n",
    "\n",
    "\n",
    "state2reg = state2reg_series.to_dict()\n",
    "state2reg\n",
    "---------------------------------------\n",
    "\n",
    "# regions.csv를 읽어온다.\n",
    "chunker = pd.read_csv(\"regions.csv\", chunksize=5,\n",
    "                      header=None, names=(\"region\", \"division\", \"state\"))\n",
    "\n",
    "accum = pd.Series()\n",
    "for piece in chunker:\n",
    "    counts = piece[\"region\"].value_counts()\n",
    "    accum = accum.add(counts, fill_value=0)\n",
    "\n",
    "accum\n",
    "\n",
    "=========================================================================="
   ]
  },
  {
   "cell_type": "code",
   "execution_count": null,
   "metadata": {},
   "outputs": [],
   "source": []
  }
 ],
 "metadata": {
  "kernelspec": {
   "display_name": "Python 3",
   "language": "python",
   "name": "python3"
  },
  "language_info": {
   "codemirror_mode": {
    "name": "ipython",
    "version": 3
   },
   "file_extension": ".py",
   "mimetype": "text/x-python",
   "name": "python",
   "nbconvert_exporter": "python",
   "pygments_lexer": "ipython3",
   "version": "3.7.6"
  }
 },
 "nbformat": 4,
 "nbformat_minor": 4
}
